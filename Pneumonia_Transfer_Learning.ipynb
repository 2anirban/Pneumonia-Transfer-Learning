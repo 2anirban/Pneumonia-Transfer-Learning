{
  "nbformat": 4,
  "nbformat_minor": 0,
  "metadata": {
    "colab": {
      "name": "Pneumonia Transfer Learning",
      "provenance": [],
      "collapsed_sections": []
    },
    "kernelspec": {
      "name": "python3",
      "display_name": "Python 3"
    },
    "accelerator": "GPU"
  },
  "cells": [
    {
      "cell_type": "code",
      "metadata": {
        "id": "4U7PCqVlZl1B",
        "colab_type": "code",
        "colab": {}
      },
      "source": [
        "import pandas as pd\n",
        "import numpy as np\n",
        "import os\n",
        "import tensorflow.keras\n",
        "import matplotlib.pyplot as plt\n",
        "from tensorflow.keras.layers import Dense,GlobalAveragePooling2D\n",
        "from tensorflow.keras.applications import MobileNet\n",
        "from tensorflow.keras.preprocessing import image\n",
        "from tensorflow.keras.applications.mobilenet import preprocess_input\n",
        "from tensorflow.keras.preprocessing.image import ImageDataGenerator\n",
        "from tensorflow.keras.models import Model\n",
        "from keras.optimizers import Adam\n",
        "from google.colab import files\n",
        "from tensorflow.keras.applications.inception_v3 import InceptionV3,preprocess_input"
      ],
      "execution_count": 0,
      "outputs": []
    },
    {
      "cell_type": "code",
      "metadata": {
        "id": "tFU1J8J-cr02",
        "colab_type": "code",
        "outputId": "9de90879-6d1c-469f-f488-b1605bbb2aac",
        "colab": {
          "base_uri": "https://localhost:8080/",
          "height": 72
        }
      },
      "source": [
        "import os\n",
        "os.environ['KAGGLE_USERNAME'] = \"******\"\n",
        "os.environ['KAGGLE_KEY'] = \"****\" # key from the json file\n",
        "!kaggle datasets download -d paultimothymooney/chest-xray-pneumonia # api copied from kaggle"
      ],
      "execution_count": 35,
      "outputs": [
        {
          "output_type": "stream",
          "text": [
            "Downloading chest-xray-pneumonia.zip to /content\n",
            " 99% 1.15G/1.15G [00:07<00:00, 112MB/s]\n",
            "100% 1.15G/1.15G [00:07<00:00, 155MB/s]\n"
          ],
          "name": "stdout"
        }
      ]
    },
    {
      "cell_type": "code",
      "metadata": {
        "id": "iyJFYEdkc56A",
        "colab_type": "code",
        "outputId": "84e51702-c33f-4257-e1a4-6ab1f86b4f69",
        "colab": {
          "base_uri": "https://localhost:8080/",
          "height": 146
        }
      },
      "source": [
        "!apt install pv\n",
        "!unzip -o /content/chest-xray-pneumonia.zip  | pv -l >/dev/null\n",
        "os.remove('chest-xray-pneumonia.zip')\n",
        "!unzip -o /content/chest_xray.zip  | pv -l >/dev/null\n",
        "os.remove('chest_xray.zip')"
      ],
      "execution_count": 36,
      "outputs": [
        {
          "output_type": "stream",
          "text": [
            "Reading package lists... Done\n",
            "Building dependency tree       \n",
            "Reading state information... Done\n",
            "pv is already the newest version (1.6.6-1).\n",
            "0 upgraded, 0 newly installed, 0 to remove and 8 not upgraded.\n",
            "2.00  0:00:09 [ 207m/s] [  <=>                                                 ]\n",
            "11.7k 0:00:14 [ 785 /s] [               <=>                                    ]\n"
          ],
          "name": "stdout"
        }
      ]
    },
    {
      "cell_type": "code",
      "metadata": {
        "id": "uRUxSfyCf4iL",
        "colab_type": "code",
        "colab": {}
      },
      "source": [
        "base_model=InceptionV3(weights='imagenet',include_top=False) #imports the mobilenet model and discards the last 1000 neuron layer.\n",
        "\n",
        "x=base_model.output\n",
        "x=GlobalAveragePooling2D()(x)\n",
        "x=Dense(1024,activation='relu')(x) #we add dense layers so that the model can learn more complex functions and classify for better results.\n",
        "x=Dense(1024,activation='relu')(x) #dense layer 2\n",
        "x=Dense(512,activation='relu')(x) #dense layer 3\n",
        "preds=Dense(2,activation='softmax')(x) #final layer with softmax activation"
      ],
      "execution_count": 0,
      "outputs": []
    },
    {
      "cell_type": "code",
      "metadata": {
        "id": "s5AvoOzEgRFh",
        "colab_type": "code",
        "colab": {}
      },
      "source": [
        "model=Model(inputs=base_model.input,outputs=preds)\n",
        "\n",
        "for layer in model.layers[:20]:\n",
        "    layer.trainable=False\n",
        "for layer in model.layers[20:]:\n",
        "    layer.trainable=True"
      ],
      "execution_count": 0,
      "outputs": []
    },
    {
      "cell_type": "code",
      "metadata": {
        "id": "RGUAMS0egRCR",
        "colab_type": "code",
        "colab": {
          "base_uri": "https://localhost:8080/",
          "height": 237
        },
        "outputId": "e6b43bf2-bd5b-4c49-b471-a6b3ebbd1751"
      },
      "source": [
        "train_datagen=ImageDataGenerator(preprocessing_function=preprocess_input) #included in our dependencies\n",
        "\n",
        "train_generator=train_datagen.flow_from_directory('/content/chest_xray/train/',\n",
        "                                                  target_size=(224,224),\n",
        "                                                  color_mode='rgb',\n",
        "                                                  batch_size=32,\n",
        "                                                  class_mode='categorical', shuffle=True)\n",
        "\n",
        "\n",
        "model.compile(optimizer='Adam',loss='categorical_crossentropy',metrics=['accuracy'])\n",
        "# Adam optimizer\n",
        "# loss function will be categorical cross entropy\n",
        "# evaluation metric will be accuracy\n",
        "\n",
        "step_size_train=train_generator.n//train_generator.batch_size\n",
        "model.fit_generator(generator=train_generator,\n",
        "                   steps_per_epoch=step_size_train,\n",
        "                   epochs=5)"
      ],
      "execution_count": 39,
      "outputs": [
        {
          "output_type": "stream",
          "text": [
            "Found 5216 images belonging to 2 classes.\n",
            "Epoch 1/5\n",
            "163/163 [==============================] - 111s 681ms/step - loss: 0.1506 - acc: 0.9503\n",
            "Epoch 2/5\n",
            "163/163 [==============================] - 90s 555ms/step - loss: 0.0539 - acc: 0.9810\n",
            "Epoch 3/5\n",
            "163/163 [==============================] - 90s 553ms/step - loss: 0.0468 - acc: 0.9820\n",
            "Epoch 4/5\n",
            "163/163 [==============================] - 90s 553ms/step - loss: 0.0388 - acc: 0.9866\n",
            "Epoch 5/5\n",
            "163/163 [==============================] - 90s 552ms/step - loss: 0.0829 - acc: 0.9770\n"
          ],
          "name": "stdout"
        },
        {
          "output_type": "execute_result",
          "data": {
            "text/plain": [
              "<tensorflow.python.keras.callbacks.History at 0x7fb251b165c0>"
            ]
          },
          "metadata": {
            "tags": []
          },
          "execution_count": 39
        }
      ]
    },
    {
      "cell_type": "code",
      "metadata": {
        "id": "TO8oFkGNi0Cv",
        "colab_type": "code",
        "colab": {
          "base_uri": "https://localhost:8080/",
          "height": 35
        },
        "outputId": "6ca0d471-9a77-4cb5-d73d-f8feb8abfe98"
      },
      "source": [
        "model.save('chest-xray-pneumonia.h5')    \n",
        "!zip -r model.zip 'chest-xray-pneumonia.h5'"
      ],
      "execution_count": 29,
      "outputs": [
        {
          "output_type": "stream",
          "text": [
            "updating: chest-xray-pneumonia.h5 (deflated 10%)\n"
          ],
          "name": "stdout"
        }
      ]
    },
    {
      "cell_type": "code",
      "metadata": {
        "id": "e3LYs6bDjOKJ",
        "colab_type": "code",
        "colab": {
          "base_uri": "https://localhost:8080/",
          "height": 202
        },
        "outputId": "2e504c57-5ae2-4b24-b37c-8249552c6aff"
      },
      "source": [
        "from tensorflow.keras.models import load_model\n",
        "new_model = load_model(\"/content/chest-xray-pneumonia.h5\")\n",
        "\n",
        "def get_rez(pic):\n",
        "  img = image.load_img(pic, target_size=(224,224))\n",
        "  x = image.img_to_array(img)\n",
        "  x = np.expand_dims(x, axis=0)\n",
        "  x = preprocess_input(x)\n",
        "  p_good,p_ill = np.around(new_model.predict(x), decimals=2)[0]\n",
        "  return{'p_good':p_good,'p_ill':p_ill}\n",
        "\n",
        "\n"
      ],
      "execution_count": 40,
      "outputs": [
        {
          "output_type": "stream",
          "text": [
            "WARNING:tensorflow:From /usr/local/lib/python3.6/dist-packages/tensorflow/python/ops/init_ops.py:97: calling GlorotUniform.__init__ (from tensorflow.python.ops.init_ops) with dtype is deprecated and will be removed in a future version.\n",
            "Instructions for updating:\n",
            "Call initializer instance with the dtype argument instead of passing it to the constructor\n",
            "WARNING:tensorflow:From /usr/local/lib/python3.6/dist-packages/tensorflow/python/ops/init_ops.py:97: calling Zeros.__init__ (from tensorflow.python.ops.init_ops) with dtype is deprecated and will be removed in a future version.\n",
            "Instructions for updating:\n",
            "Call initializer instance with the dtype argument instead of passing it to the constructor\n",
            "WARNING:tensorflow:From /usr/local/lib/python3.6/dist-packages/tensorflow/python/ops/init_ops.py:97: calling Ones.__init__ (from tensorflow.python.ops.init_ops) with dtype is deprecated and will be removed in a future version.\n",
            "Instructions for updating:\n",
            "Call initializer instance with the dtype argument instead of passing it to the constructor\n"
          ],
          "name": "stdout"
        }
      ]
    },
    {
      "cell_type": "code",
      "metadata": {
        "id": "7B4Pjs7PtveR",
        "colab_type": "code",
        "colab": {
          "base_uri": "https://localhost:8080/",
          "height": 54
        },
        "outputId": "3959a4e2-05f5-4638-bdea-745bdd49c13d"
      },
      "source": [
        "ill_path = \"/content/chest_xray/train/PNEUMONIA/\" \n",
        "good_path = \"/content/chest_xray/train/NORMAL/\" \n",
        "\n",
        "ill_pic = ill_path + os.listdir(ill_path)[0]\n",
        "good_pic = good_path + os.listdir(good_path)[0]\n",
        "\n",
        "print(get_rez(ill_pic))\n",
        "print(get_rez(good_pic))"
      ],
      "execution_count": 41,
      "outputs": [
        {
          "output_type": "stream",
          "text": [
            "{'p_good': 0.0, 'p_ill': 1.0}\n",
            "{'p_good': 0.66, 'p_ill': 0.34}\n"
          ],
          "name": "stdout"
        }
      ]
    }
  ]
}